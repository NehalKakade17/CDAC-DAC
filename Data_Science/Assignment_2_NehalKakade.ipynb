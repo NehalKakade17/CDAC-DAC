{
 "cells": [
  {
   "cell_type": "code",
   "execution_count": 16,
   "id": "ed887a64-b978-49d2-b8d3-7cdca13cd561",
   "metadata": {},
   "outputs": [
    {
     "name": "stdout",
     "output_type": "stream",
     "text": [
      "[23, 45, 2, 6, 13, 59]\n",
      "[23, 45, 2, 6, 13, 59, 56, 99]\n",
      "[23, 45, 2, 7, 6, 13, 59, 56, 99]\n",
      "[23, 2, 7, 6, 13, 59, 56, 99]\n",
      "[23, 2, 6, 13, 59, 56, 99]\n",
      "3\n",
      "1\n",
      "[2, 6, 13, 23, 56, 59, 99]\n",
      "[99, 59, 56, 23, 13, 6, 2]\n",
      "[]\n"
     ]
    }
   ],
   "source": [
    "#Section-A\n",
    "#1\n",
    "num = [23,45,2,6,13]#list declaration\n",
    "num.append(59)#append operation will add the number at the end of the list\n",
    "print(num)#display list\n",
    "num.extend([56,99])#extend operation will add multiple elements to given data structure at the end\n",
    "print(num)\n",
    "num.insert(3,7)#insert operation will add element at the given index of the data structure\n",
    "print(num)\n",
    "num.remove(45)#remove operation will delete the matching element given from the data structure\n",
    "print(num)\n",
    "num.pop(2)# pop operation will delete the element of provided index from the data structure\n",
    "print(num)\n",
    "print(num.index(13))#index operation will give the index of the element provided from the data structure\n",
    "print(num.count(99))#count operation will give number of times provided element has occured in that data structure\n",
    "num.sort()#sort operation will sort the data structure in ascending order by default\n",
    "print(num)\n",
    "num.reverse()#reverse opeartion will reverse the data structure\n",
    "print(num)\n",
    "num.clear()#clear operation will delete all the elements from the data structure\n",
    "print(num)"
   ]
  },
  {
   "cell_type": "code",
   "execution_count": 21,
   "id": "d26d9b4e-a9b9-4134-9ef0-73ce08333516",
   "metadata": {},
   "outputs": [
    {
     "name": "stdout",
     "output_type": "stream",
     "text": [
      "('Nehal', 'Danny', 'Pooja')\n"
     ]
    },
    {
     "ename": "TypeError",
     "evalue": "'tuple' object does not support item assignment",
     "output_type": "error",
     "traceback": [
      "\u001b[1;31m---------------------------------------------------------------------------\u001b[0m",
      "\u001b[1;31mTypeError\u001b[0m                                 Traceback (most recent call last)",
      "Cell \u001b[1;32mIn[21], line 4\u001b[0m\n\u001b[0;32m      2\u001b[0m name \u001b[38;5;241m=\u001b[39m (\u001b[38;5;124m\"\u001b[39m\u001b[38;5;124mNehal\u001b[39m\u001b[38;5;124m\"\u001b[39m,\u001b[38;5;124m\"\u001b[39m\u001b[38;5;124mDanny\u001b[39m\u001b[38;5;124m\"\u001b[39m,\u001b[38;5;124m\"\u001b[39m\u001b[38;5;124mPooja\u001b[39m\u001b[38;5;124m\"\u001b[39m)\n\u001b[0;32m      3\u001b[0m \u001b[38;5;28mprint\u001b[39m(name)\n\u001b[1;32m----> 4\u001b[0m name[\u001b[38;5;241m2\u001b[39m] \u001b[38;5;241m=\u001b[39m \u001b[38;5;124m\"\u001b[39m\u001b[38;5;124mMark\u001b[39m\u001b[38;5;124m\"\u001b[39m \u001b[38;5;66;03m#tuples are immutable.Hence after declaration if we try to modify it then it throws error.\u001b[39;00m\n\u001b[0;32m      5\u001b[0m \u001b[38;5;28mprint\u001b[39m(name)\n",
      "\u001b[1;31mTypeError\u001b[0m: 'tuple' object does not support item assignment"
     ]
    }
   ],
   "source": [
    "#2\n",
    "name = (\"Nehal\",\"Danny\",\"Pooja\")\n",
    "print(name)\n",
    "name[2] = \"Mark\" #tuples are immutable.Hence after declaration if we try to modify it then it throws error.\n",
    "print(name)"
   ]
  },
  {
   "cell_type": "code",
   "execution_count": 24,
   "id": "4f1bd046-a839-4c0e-a951-205444361ad2",
   "metadata": {},
   "outputs": [
    {
     "name": "stdout",
     "output_type": "stream",
     "text": [
      "{2, 3, 4, 5, 6, 7, 8}\n"
     ]
    }
   ],
   "source": [
    "#3\n",
    "numbers = {2,3,4,2,5,3,6,3,7,8,3,8}\n",
    "\"\"\"set data structure does not allow duplicate values.Hence even if we provided duplicates during declaration, the set\n",
    "eliminate those.\"\"\"\n",
    "print(numbers)"
   ]
  },
  {
   "cell_type": "code",
   "execution_count": 31,
   "id": "342c1794-5445-42c2-a3b4-9d3683d3ae1c",
   "metadata": {},
   "outputs": [
    {
     "name": "stdout",
     "output_type": "stream",
     "text": [
      "{'name': 'Nehal', 'age': 23, 'city': 'Pune'}\n",
      "{'name': 'Nehal', 'age': 22, 'city': 'Pune'}\n",
      "{'name': 'Nehal', 'age': 22, 'city': 'Pune', 'email': 'nk@gmail.com'}\n"
     ]
    }
   ],
   "source": [
    "#4\n",
    "info = {\"name\" : \"Nehal\" , \"age\" : 23 , \"city\" : \"Pune\"}#dictionary declaration\n",
    "print(info)\n",
    "info[\"age\"] = 22 #modifying exsisting value to new value\n",
    "print(info)\n",
    "info[\"email\"] = \"nk@gmail.com\" #adding new key and value.It is mandatory to add value when declaring key.\n",
    "print(info)"
   ]
  },
  {
   "cell_type": "code",
   "execution_count": 2,
   "id": "35d1cd10-eef0-4ad6-b04d-98e0cc237d29",
   "metadata": {},
   "outputs": [
    {
     "name": "stdin",
     "output_type": "stream",
     "text": [
      "Enter your age:  23\n"
     ]
    },
    {
     "name": "stdout",
     "output_type": "stream",
     "text": [
      "You are eligible to vote!\n"
     ]
    }
   ],
   "source": [
    "#5\n",
    "age = int(input(\"Enter your age: \"))#user input\n",
    "if age >= 18: #conditional statement\n",
    "    print(\"You are eligible to vote!\")\n",
    "else:\n",
    "    print(\"You are not eligible to vote\")"
   ]
  },
  {
   "cell_type": "code",
   "execution_count": 10,
   "id": "188eb3ef-84f2-4c8e-bd38-5df9382c81d5",
   "metadata": {},
   "outputs": [
    {
     "name": "stdin",
     "output_type": "stream",
     "text": [
      "Enter your marks:  82\n"
     ]
    },
    {
     "name": "stdout",
     "output_type": "stream",
     "text": [
      "Grade B\n"
     ]
    }
   ],
   "source": [
    "#6\n",
    "marks = int(input(\"Enter your marks: \"))\n",
    "if marks >= 90 and marks <101:\n",
    "    print(\"Grade A\")\n",
    "elif marks >= 75 and marks <90:\n",
    "    print(\"Grade B\")\n",
    "elif marks >= 50 and marks < 75:\n",
    "    print(\"Grade C\")\n",
    "elif marks >= 0 and marks < 50:\n",
    "    print(\"Fail\")\n",
    "elif marks > 100:\n",
    "    print(\"Please enter appropriate marks\")\n",
    "\n",
    "    "
   ]
  },
  {
   "cell_type": "code",
   "execution_count": 14,
   "id": "31169957-47f0-4ab8-9b59-a89fd933727f",
   "metadata": {},
   "outputs": [
    {
     "name": "stdin",
     "output_type": "stream",
     "text": [
      "Enter a number:  -4\n"
     ]
    },
    {
     "name": "stdout",
     "output_type": "stream",
     "text": [
      "Negative number entered\n"
     ]
    }
   ],
   "source": [
    "#7\n",
    "num = int(input(\"Enter a number: \"))\n",
    "if num > 0:\n",
    "    if num % 2 == 0:\n",
    "        print(\"Positive and even number entered\")\n",
    "    else:\n",
    "        print(\"Positive and odd number entered\")\n",
    "elif num == 0:\n",
    "    print(\"Zero is entered\")\n",
    "elif num < 0:\n",
    "    print(\"Negative number entered\")"
   ]
  },
  {
   "cell_type": "code",
   "execution_count": 19,
   "id": "817cb627-7779-41b5-a3e1-5329b2f11969",
   "metadata": {},
   "outputs": [
    {
     "name": "stdout",
     "output_type": "stream",
     "text": [
      "5\n",
      "[1 2 3 4 5]\n",
      "[[10 20 30]\n",
      " [40 50 60]]\n"
     ]
    }
   ],
   "source": [
    "#Section-B\n",
    "#1\n",
    "import numpy as np\n",
    "arr = np.array(5)\n",
    "print(arr)\n",
    "oneD_arr = np.array([1,2,3,4,5])\n",
    "print(oneD_arr)\n",
    "twoD_arr = np.array([[10,20,30],[40,50,60]])\n",
    "print(twoD_arr)"
   ]
  },
  {
   "cell_type": "code",
   "execution_count": 45,
   "id": "4b101fb1-4e92-4b0a-bd74-66920042386b",
   "metadata": {},
   "outputs": [
    {
     "name": "stdout",
     "output_type": "stream",
     "text": [
      "[[ 91  52  83  80]\n",
      " [100  21  85  21]\n",
      " [ 77  29  42   5]\n",
      " [ 34  41  16  92]]\n"
     ]
    }
   ],
   "source": [
    "#2\n",
    "array1 = np.random.randint(0,101,size=(4,4))\n",
    "print(array1)"
   ]
  },
  {
   "cell_type": "code",
   "execution_count": 46,
   "id": "a6b6979b-2b41-44a5-9df8-e70ef390635a",
   "metadata": {},
   "outputs": [
    {
     "name": "stdout",
     "output_type": "stream",
     "text": [
      "   A  B  C\n",
      "0  1  2  3\n",
      "1  6  7  8\n",
      "2  4  5  9\n"
     ]
    }
   ],
   "source": [
    "#3\n",
    "import pandas as pd\n",
    "new_arr = np.array([[1,2,3],[6,7,8],[4,5,9]])\n",
    "df = pd.DataFrame(new_arr,columns=['A','B','C'])\n",
    "print(df)"
   ]
  },
  {
   "cell_type": "code",
   "execution_count": 64,
   "id": "99df6c1a-d79a-4bf4-a904-085080d4050c",
   "metadata": {},
   "outputs": [
    {
     "name": "stdout",
     "output_type": "stream",
     "text": [
      "      Name  Age       City  Salary\n",
      "0    Nehal   23       Pune   12000\n",
      "1    Aisha   34     Mumbai   20000\n",
      "2     Mark   22      Delhi   30000\n",
      "3    Elena   25    Chennai   40000\n",
      "4    Pooja   67   Banglore   50000\n",
      "5    Harry   27  Hyderabad    6000\n",
      "6     Josh   19      Surat   73000\n",
      "7    Kevin   20     Jaipur   29000\n",
      "8  Shubham   36    Kolkata   20004\n",
      "9     Maya   45      Akola   12947\n",
      "<class 'pandas.core.frame.DataFrame'>\n",
      "RangeIndex: 10 entries, 0 to 9\n",
      "Data columns (total 4 columns):\n",
      " #   Column  Non-Null Count  Dtype \n",
      "---  ------  --------------  ----- \n",
      " 0   Name    10 non-null     object\n",
      " 1   Age     10 non-null     int64 \n",
      " 2   City    10 non-null     object\n",
      " 3   Salary  10 non-null     int64 \n",
      "dtypes: int64(2), object(2)\n",
      "memory usage: 452.0+ bytes\n",
      "      Name       City\n",
      "0    Nehal       Pune\n",
      "1    Aisha     Mumbai\n",
      "2     Mark      Delhi\n",
      "3    Elena    Chennai\n",
      "4    Pooja   Banglore\n",
      "5    Harry  Hyderabad\n",
      "6     Josh      Surat\n",
      "7    Kevin     Jaipur\n",
      "8  Shubham    Kolkata\n",
      "9     Maya      Akola\n",
      "      Name  Age  Salary\n",
      "0    Nehal   23   12000\n",
      "1    Aisha   34   20000\n",
      "2     Mark   22   30000\n",
      "3    Elena   25   40000\n",
      "4    Pooja   67   50000\n",
      "5    Harry   27    6000\n",
      "6     Josh   19   73000\n",
      "7    Kevin   20   29000\n",
      "8  Shubham   36   20004\n",
      "9     Maya   45   12947\n",
      "      Name  Age       City   Salary\n",
      "0    Nehal   23       Pune  12000.0\n",
      "1    Aisha   34     Mumbai  20000.0\n",
      "2     Mark   22      Delhi  30000.0\n",
      "3    Elena   25    Chennai  40000.0\n",
      "4    Pooja   67   Banglore      NaN\n",
      "5    Harry   27  Hyderabad   6000.0\n",
      "6     Josh   19      Surat  73000.0\n",
      "7    Kevin   20     Jaipur  29000.0\n",
      "8  Shubham   36    Kolkata      NaN\n",
      "9     Maya   45      Akola  12947.0\n",
      "      Name  Age       City     Salary\n",
      "0    Nehal   23       Pune  12000.000\n",
      "1    Aisha   34     Mumbai  20000.000\n",
      "2     Mark   22      Delhi  30000.000\n",
      "3    Elena   25    Chennai  40000.000\n",
      "4    Pooja   67   Banglore  27868.375\n",
      "5    Harry   27  Hyderabad   6000.000\n",
      "6     Josh   19      Surat  73000.000\n",
      "7    Kevin   20     Jaipur  29000.000\n",
      "8  Shubham   36    Kolkata  27868.375\n",
      "9     Maya   45      Akola  12947.000\n"
     ]
    }
   ],
   "source": [
    "#Section-C\n",
    "#11\n",
    "details = {\n",
    "    \"Name\" : [\"Nehal\",\"Aisha\",\"Mark\",\"Elena\",\"Pooja\",\"Harry\",\"Josh\",\"Kevin\",\"Shubham\",\"Maya\"],\n",
    "    \"Age\" : [23,34,22,25,67,27,19,20,36,45],\n",
    "    \"City\" : [\"Pune\",\"Mumbai\",\"Delhi\",\"Chennai\",\"Banglore\",\"Hyderabad\",\"Surat\",\"Jaipur\",\"Kolkata\",\"Akola\"],\n",
    "    \"Salary\" : [12000,20000,30000,40000,50000,6000,73000,29000,20004,12947]\n",
    "}\n",
    "new_df = pd.DataFrame(details)\n",
    "print(new_df)\n",
    "new_df.info()\n",
    "new_df.describe()\n",
    "print(new_df[['Name','City']])\n",
    "drop_df = new_df.drop('City',axis=1)\n",
    "print(drop_df)\n",
    "new_df.at[4,\"Salary\"] = np.nan\n",
    "new_df.at[8,\"Salary\"] = np.nan\n",
    "print(new_df)\n",
    "df_na = new_df.fillna(new_df[\"Salary\"].mean())\n",
    "print(df_na)"
   ]
  },
  {
   "cell_type": "code",
   "execution_count": null,
   "id": "1efa5ba9-6fd7-438f-9064-7d6dd72d1530",
   "metadata": {},
   "outputs": [],
   "source": []
  }
 ],
 "metadata": {
  "kernelspec": {
   "display_name": "Python [conda env:base] *",
   "language": "python",
   "name": "conda-base-py"
  },
  "language_info": {
   "codemirror_mode": {
    "name": "ipython",
    "version": 3
   },
   "file_extension": ".py",
   "mimetype": "text/x-python",
   "name": "python",
   "nbconvert_exporter": "python",
   "pygments_lexer": "ipython3",
   "version": "3.13.5"
  }
 },
 "nbformat": 4,
 "nbformat_minor": 5
}
