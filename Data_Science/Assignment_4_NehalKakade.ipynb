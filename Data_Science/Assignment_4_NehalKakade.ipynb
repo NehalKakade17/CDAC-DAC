{
 "cells": [
  {
   "cell_type": "code",
   "execution_count": 2,
   "id": "5652bfcb-c5b3-49b5-a7fb-4213838b1f7c",
   "metadata": {},
   "outputs": [
    {
     "name": "stdout",
     "output_type": "stream",
     "text": [
      "<class 'pandas.core.frame.DataFrame'>\n",
      "RangeIndex: 6 entries, 0 to 5\n",
      "Data columns (total 7 columns):\n",
      " #   Column          Non-Null Count  Dtype  \n",
      "---  ------          --------------  -----  \n",
      " 0   PatientID       6 non-null      int64  \n",
      " 1   Name            6 non-null      object \n",
      " 2   Department      6 non-null      object \n",
      " 3   Doctor          6 non-null      object \n",
      " 4   BillAmount      4 non-null      float64\n",
      " 5   ReceptionistID  6 non-null      int64  \n",
      " 6   CheckInTime     6 non-null      object \n",
      "dtypes: float64(1), int64(2), object(4)\n",
      "memory usage: 468.0+ bytes\n"
     ]
    }
   ],
   "source": [
    "import pandas as pd\n",
    "patient_data = pd.read_csv(\"Patient_Data.csv\")\n",
    "patient_data.info()"
   ]
  },
  {
   "cell_type": "code",
   "execution_count": 4,
   "id": "350dcf62-c470-44d1-8692-4758c83be4af",
   "metadata": {},
   "outputs": [
    {
     "name": "stdout",
     "output_type": "stream",
     "text": [
      "   PatientID   Department     Doctor  BillAmount\n",
      "0        101   Cardiology  Dr. Smith      5000.0\n",
      "1        102    Neurology   Dr. John         NaN\n",
      "2        103  Orthopedics    Dr. Lee      7500.0\n",
      "3        104   Cardiology  Dr. Smith      6200.0\n",
      "4        105  Dermatology   Dr. Rose         NaN\n",
      "5        101   Cardiology  Dr. Smith      5000.0\n"
     ]
    }
   ],
   "source": [
    "sample = patient_data[['PatientID','Department','Doctor','BillAmount']]\n",
    "print(sample)"
   ]
  },
  {
   "cell_type": "code",
   "execution_count": 5,
   "id": "b15f571d-a68f-4cf9-9371-440e3a97919b",
   "metadata": {},
   "outputs": [
    {
     "data": {
      "text/html": [
       "<div>\n",
       "<style scoped>\n",
       "    .dataframe tbody tr th:only-of-type {\n",
       "        vertical-align: middle;\n",
       "    }\n",
       "\n",
       "    .dataframe tbody tr th {\n",
       "        vertical-align: top;\n",
       "    }\n",
       "\n",
       "    .dataframe thead th {\n",
       "        text-align: right;\n",
       "    }\n",
       "</style>\n",
       "<table border=\"1\" class=\"dataframe\">\n",
       "  <thead>\n",
       "    <tr style=\"text-align: right;\">\n",
       "      <th></th>\n",
       "      <th>PatientID</th>\n",
       "      <th>Name</th>\n",
       "      <th>Department</th>\n",
       "      <th>Doctor</th>\n",
       "      <th>BillAmount</th>\n",
       "    </tr>\n",
       "  </thead>\n",
       "  <tbody>\n",
       "    <tr>\n",
       "      <th>0</th>\n",
       "      <td>101</td>\n",
       "      <td>Alice</td>\n",
       "      <td>Cardiology</td>\n",
       "      <td>Dr. Smith</td>\n",
       "      <td>5000.0</td>\n",
       "    </tr>\n",
       "    <tr>\n",
       "      <th>1</th>\n",
       "      <td>102</td>\n",
       "      <td>Bob</td>\n",
       "      <td>Neurology</td>\n",
       "      <td>Dr. John</td>\n",
       "      <td>NaN</td>\n",
       "    </tr>\n",
       "    <tr>\n",
       "      <th>2</th>\n",
       "      <td>103</td>\n",
       "      <td>Charlie</td>\n",
       "      <td>Orthopedics</td>\n",
       "      <td>Dr. Lee</td>\n",
       "      <td>7500.0</td>\n",
       "    </tr>\n",
       "    <tr>\n",
       "      <th>3</th>\n",
       "      <td>104</td>\n",
       "      <td>David</td>\n",
       "      <td>Cardiology</td>\n",
       "      <td>Dr. Smith</td>\n",
       "      <td>6200.0</td>\n",
       "    </tr>\n",
       "    <tr>\n",
       "      <th>4</th>\n",
       "      <td>105</td>\n",
       "      <td>Eva</td>\n",
       "      <td>Dermatology</td>\n",
       "      <td>Dr. Rose</td>\n",
       "      <td>NaN</td>\n",
       "    </tr>\n",
       "    <tr>\n",
       "      <th>5</th>\n",
       "      <td>101</td>\n",
       "      <td>Alice</td>\n",
       "      <td>Cardiology</td>\n",
       "      <td>Dr. Smith</td>\n",
       "      <td>5000.0</td>\n",
       "    </tr>\n",
       "  </tbody>\n",
       "</table>\n",
       "</div>"
      ],
      "text/plain": [
       "   PatientID     Name   Department     Doctor  BillAmount\n",
       "0        101    Alice   Cardiology  Dr. Smith      5000.0\n",
       "1        102      Bob    Neurology   Dr. John         NaN\n",
       "2        103  Charlie  Orthopedics    Dr. Lee      7500.0\n",
       "3        104    David   Cardiology  Dr. Smith      6200.0\n",
       "4        105      Eva  Dermatology   Dr. Rose         NaN\n",
       "5        101    Alice   Cardiology  Dr. Smith      5000.0"
      ]
     },
     "execution_count": 5,
     "metadata": {},
     "output_type": "execute_result"
    }
   ],
   "source": [
    "patient_data.drop(['ReceptionistID','CheckInTime'],axis = 1)"
   ]
  },
  {
   "cell_type": "code",
   "execution_count": 6,
   "id": "d3c11739-af7d-4e9b-820c-af0d45430a46",
   "metadata": {},
   "outputs": [
    {
     "data": {
      "text/plain": [
       "Department\n",
       "Cardiology     16200.0\n",
       "Dermatology        0.0\n",
       "Neurology          0.0\n",
       "Orthopedics     7500.0\n",
       "Name: BillAmount, dtype: float64"
      ]
     },
     "execution_count": 6,
     "metadata": {},
     "output_type": "execute_result"
    }
   ],
   "source": [
    "sample.groupby('Department')['BillAmount'].sum()"
   ]
  },
  {
   "cell_type": "code",
   "execution_count": 7,
   "id": "56ebbd70-bca2-42d5-ae8f-9f49e0d5b0c9",
   "metadata": {},
   "outputs": [
    {
     "data": {
      "text/html": [
       "<div>\n",
       "<style scoped>\n",
       "    .dataframe tbody tr th:only-of-type {\n",
       "        vertical-align: middle;\n",
       "    }\n",
       "\n",
       "    .dataframe tbody tr th {\n",
       "        vertical-align: top;\n",
       "    }\n",
       "\n",
       "    .dataframe thead th {\n",
       "        text-align: right;\n",
       "    }\n",
       "</style>\n",
       "<table border=\"1\" class=\"dataframe\">\n",
       "  <thead>\n",
       "    <tr style=\"text-align: right;\">\n",
       "      <th></th>\n",
       "      <th>PatientID</th>\n",
       "      <th>Department</th>\n",
       "      <th>Doctor</th>\n",
       "      <th>BillAmount</th>\n",
       "    </tr>\n",
       "  </thead>\n",
       "  <tbody>\n",
       "    <tr>\n",
       "      <th>0</th>\n",
       "      <td>101</td>\n",
       "      <td>Cardiology</td>\n",
       "      <td>Dr. Smith</td>\n",
       "      <td>5000.0</td>\n",
       "    </tr>\n",
       "    <tr>\n",
       "      <th>1</th>\n",
       "      <td>102</td>\n",
       "      <td>Neurology</td>\n",
       "      <td>Dr. John</td>\n",
       "      <td>NaN</td>\n",
       "    </tr>\n",
       "    <tr>\n",
       "      <th>2</th>\n",
       "      <td>103</td>\n",
       "      <td>Orthopedics</td>\n",
       "      <td>Dr. Lee</td>\n",
       "      <td>7500.0</td>\n",
       "    </tr>\n",
       "    <tr>\n",
       "      <th>3</th>\n",
       "      <td>104</td>\n",
       "      <td>Cardiology</td>\n",
       "      <td>Dr. Smith</td>\n",
       "      <td>6200.0</td>\n",
       "    </tr>\n",
       "    <tr>\n",
       "      <th>4</th>\n",
       "      <td>105</td>\n",
       "      <td>Dermatology</td>\n",
       "      <td>Dr. Rose</td>\n",
       "      <td>NaN</td>\n",
       "    </tr>\n",
       "  </tbody>\n",
       "</table>\n",
       "</div>"
      ],
      "text/plain": [
       "   PatientID   Department     Doctor  BillAmount\n",
       "0        101   Cardiology  Dr. Smith      5000.0\n",
       "1        102    Neurology   Dr. John         NaN\n",
       "2        103  Orthopedics    Dr. Lee      7500.0\n",
       "3        104   Cardiology  Dr. Smith      6200.0\n",
       "4        105  Dermatology   Dr. Rose         NaN"
      ]
     },
     "execution_count": 7,
     "metadata": {},
     "output_type": "execute_result"
    }
   ],
   "source": [
    "sample.drop_duplicates(subset = ['PatientID'])"
   ]
  },
  {
   "cell_type": "code",
   "execution_count": 8,
   "id": "632a2046-db20-4b41-88cb-567c73f3cba9",
   "metadata": {},
   "outputs": [
    {
     "name": "stdout",
     "output_type": "stream",
     "text": [
      "   PatientID     Name   Department     Doctor  BillAmount\n",
      "0        101    Alice   Cardiology  Dr. Smith      5000.0\n",
      "1        102      Bob    Neurology   Dr. John      5925.0\n",
      "2        103  Charlie  Orthopedics    Dr. Lee      7500.0\n",
      "3        104    David   Cardiology  Dr. Smith      6200.0\n",
      "4        105      Eva  Dermatology   Dr. Rose      5925.0\n",
      "5        101    Alice   Cardiology  Dr. Smith      5000.0\n"
     ]
    }
   ],
   "source": [
    "sample = patient_data.drop(['ReceptionistID','CheckInTime'],axis = 1).copy()\n",
    "sample['BillAmount'] = sample['BillAmount'].fillna(sample['BillAmount'].mean())\n",
    "print(sample)"
   ]
  },
  {
   "cell_type": "code",
   "execution_count": 9,
   "id": "f6114ad8-5bb1-4c27-947e-d9a2d61cf55b",
   "metadata": {},
   "outputs": [
    {
     "name": "stdout",
     "output_type": "stream",
     "text": [
      "<class 'pandas.core.frame.DataFrame'>\n",
      "RangeIndex: 5 entries, 0 to 4\n",
      "Data columns (total 3 columns):\n",
      " #   Column            Non-Null Count  Dtype\n",
      "---  ------            --------------  -----\n",
      " 0   PatientID         5 non-null      int64\n",
      " 1   InsuranceCovered  5 non-null      int64\n",
      " 2   FinalAmount       5 non-null      int64\n",
      "dtypes: int64(3)\n",
      "memory usage: 252.0 bytes\n"
     ]
    }
   ],
   "source": [
    "billing_data = pd.read_csv(\"Billing_Data.csv\")\n",
    "billing_data.info()"
   ]
  },
  {
   "cell_type": "code",
   "execution_count": 26,
   "id": "0eed8eac-d687-41b2-9259-b88eb4d4c51a",
   "metadata": {},
   "outputs": [
    {
     "name": "stdout",
     "output_type": "stream",
     "text": [
      "   PatientID     Name   Department     Doctor  BillAmount  InsuranceCovered  \\\n",
      "0        101    Alice   Cardiology  Dr. Smith      5000.0              2000   \n",
      "1        102      Bob    Neurology   Dr. John      5925.0              1500   \n",
      "2        103  Charlie  Orthopedics    Dr. Lee      7500.0              2500   \n",
      "3        104    David   Cardiology  Dr. Smith      6200.0              3000   \n",
      "4        105      Eva  Dermatology   Dr. Rose      5925.0              1000   \n",
      "\n",
      "   FinalAmount  \n",
      "0         3000  \n",
      "1         3500  \n",
      "2         5000  \n",
      "3         3200  \n",
      "4         4000  \n"
     ]
    }
   ],
   "source": [
    "merged_data = pd.merge(sample,billing_data,on = \"PatientID\",how = \"inner\")\n",
    "merged_data.drop_duplicates(inplace=True)\n",
    "print(merged_data)"
   ]
  },
  {
   "cell_type": "code",
   "execution_count": 21,
   "id": "09599b7f-1511-4af7-907c-db9f8eb1dbbd",
   "metadata": {},
   "outputs": [
    {
     "name": "stdout",
     "output_type": "stream",
     "text": [
      "   PatientID     Name   Department     Doctor  BillAmount  InsuranceCovered  \\\n",
      "0        101    Alice   Cardiology  Dr. Smith      5000.0              2000   \n",
      "1        102      Bob    Neurology   Dr. John      5925.0              1500   \n",
      "2        103  Charlie  Orthopedics    Dr. Lee      7500.0              2500   \n",
      "3        104    David   Cardiology  Dr. Smith      6200.0              3000   \n",
      "4        105      Eva  Dermatology   Dr. Rose      5925.0              1000   \n",
      "5        106   Anjali    Neurology    Dr.John      6400.0              2000   \n",
      "\n",
      "   FinalAmount  \n",
      "0         3000  \n",
      "1         3500  \n",
      "2         5000  \n",
      "3         3200  \n",
      "4         4000  \n",
      "5         3000  \n"
     ]
    }
   ],
   "source": [
    "new_data = pd.DataFrame({\"PatientID\" : [106],\"Name\" : [\"Anjali\"],\"Department\" : [\"Neurology\"],\"Doctor\": [\"Dr.John\"],\"BillAmount\" : [6400],\n",
    "                         \"InsuranceCovered\": [2000],\"FinalAmount\" : [3000]})\n",
    "new_entry = pd.concat([merged_data,new_data],axis = 0,ignore_index = True)\n",
    "print(new_entry)"
   ]
  },
  {
   "cell_type": "code",
   "execution_count": 24,
   "id": "c06b3024-3da8-4c6a-bc00-6899305ca686",
   "metadata": {},
   "outputs": [
    {
     "name": "stdout",
     "output_type": "stream",
     "text": [
      "   PatientID     Name   Department     Doctor  BillAmount  InsuranceCovered  \\\n",
      "0        101    Alice   Cardiology  Dr. Smith      5000.0              2000   \n",
      "1        102      Bob    Neurology   Dr. John      5925.0              1500   \n",
      "2        103  Charlie  Orthopedics    Dr. Lee      7500.0              2500   \n",
      "3        104    David   Cardiology  Dr. Smith      6200.0              3000   \n",
      "4        105      Eva  Dermatology   Dr. Rose      5925.0              1000   \n",
      "5        106   Anjali    Neurology    Dr.John      6400.0              2000   \n",
      "\n",
      "   FinalAmount  InsuranceCovered  FinalAmount  \n",
      "0         3000              1000         1000  \n",
      "1         3500               500         2000  \n",
      "2         5000              2500         3000  \n",
      "3         3200               400         2200  \n",
      "4         4000              1000         2000  \n",
      "5         3000              1000         1000  \n"
     ]
    }
   ],
   "source": [
    "new_column = pd.DataFrame({\"InsuranceCovered\": [1000,500,2500,400,1000,1000],\"FinalAmount\" : [1000,2000,3000,2200,2000,1000]})\n",
    "new_col = pd.concat([new_entry,new_column],axis = 1)\n",
    "print(new_col)"
   ]
  },
  {
   "cell_type": "code",
   "execution_count": null,
   "id": "ed70e551-a5e8-4323-877a-edf285ef26cb",
   "metadata": {},
   "outputs": [],
   "source": [
    "#The Cardiology department generates the highest revenue of 16,200.\n",
    "#Dr.Smith handles most of the patients are there are more cardiac patients.\n",
    "#Revenue across departments depends on both the number of patients and the average bill amount.\n",
    "#Cardiac patients form the majority, but Orthopedic patients also have strong potential to contribute to revenue growth.\n",
    "#Insurance helps patients to cover the bill but still majority of bill is to be paid by patients."
   ]
  }
 ],
 "metadata": {
  "kernelspec": {
   "display_name": "Python [conda env:base] *",
   "language": "python",
   "name": "conda-base-py"
  },
  "language_info": {
   "codemirror_mode": {
    "name": "ipython",
    "version": 3
   },
   "file_extension": ".py",
   "mimetype": "text/x-python",
   "name": "python",
   "nbconvert_exporter": "python",
   "pygments_lexer": "ipython3",
   "version": "3.13.5"
  }
 },
 "nbformat": 4,
 "nbformat_minor": 5
}
